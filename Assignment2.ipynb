{
 "cells": [
  {
   "cell_type": "code",
   "execution_count": 16,
   "id": "02cc1956",
   "metadata": {},
   "outputs": [
    {
     "ename": "SyntaxError",
     "evalue": "unterminated string literal (detected at line 5) (1286645808.py, line 5)",
     "output_type": "error",
     "traceback": [
      "\u001b[1;36m  Cell \u001b[1;32mIn[16], line 5\u001b[1;36m\u001b[0m\n\u001b[1;33m    Here's a breakdown of what happens in each executed statement:\u001b[0m\n\u001b[1;37m        ^\u001b[0m\n\u001b[1;31mSyntaxError\u001b[0m\u001b[1;31m:\u001b[0m unterminated string literal (detected at line 5)\n"
     ]
    }
   ],
   "source": [
    "#question 1\n",
    "\n",
    "#After executing the given code, the value displayed when the last expression a is evaluated will be 6.\n",
    "#Here's a breakdown of what happens in each executed statement:\n",
    "\n",
    "b() is called for the first time:\n",
    "\n",
    "The global variable a is accessed and its initial value of 0 is passed as an argument to the function c(a).\n",
    "Inside the function c(a), the value 0 is added to 2, resulting in 2.\n",
    "The function c(a) returns the value 2.\n",
    "The global variable a is updated with the returned value of 2.\n",
    "b() is called again:\n",
    "\n",
    "The global variable a is accessed, and its current value of 2 is passed as an argument to the function c(a).\n",
    "Inside the function c(a), the value 2 is added to 2, resulting in 4.\n",
    "The function c(a) returns the value 4.\n",
    "The global variable a is updated with the returned value of 4.\n",
    "b() is called once more:\n",
    "\n",
    "The global variable a is accessed, and its current value of 4 is passed as an argument to the function c(a).\n",
    "Inside the function c(a), the value 4 is added to 2, resulting in 6.\n",
    "The function c(a) returns the value 6.\n",
    "The global variable a is updated with the returned value of 6.\n",
    "Finally, when a is evaluated:\n",
    "\n",
    "The current value of the global variable a is 6.\n",
    "Thus, the value displayed for a will be 6.\n",
    "Therefore, the value displayed when the last expression a is evaluated is 6. "
   ]
  },
  {
   "cell_type": "code",
   "execution_count": 6,
   "id": "f2c94bc8",
   "metadata": {},
   "outputs": [
    {
     "name": "stdout",
     "output_type": "stream",
     "text": [
      "File midterm.py not found.\n"
     ]
    }
   ],
   "source": [
    "#question 2\n",
    "\n",
    "def fileLength(filename):\n",
    "    try:\n",
    "        infile = open(filename)\n",
    "        contents = infile.read()\n",
    "        infile.close()\n",
    "        return len(contents)\n",
    "    except FileNotFoundError:\n",
    "        print(f\"File {filename} not found.\")\n",
    "        return None\n",
    "    except:\n",
    "        print(f\"Error reading file {filename}.\")\n",
    "        return None\n",
    "\n",
    "fileLength (\"midterm.py\")"
   ]
  },
  {
   "cell_type": "code",
   "execution_count": 13,
   "id": "e361d99a",
   "metadata": {},
   "outputs": [
    {
     "name": "stdout",
     "output_type": "stream",
     "text": [
      "['doll', 'firetruck', 'kitten']\n",
      "I am a Kangaroo located at coordinates (0,0)\n",
      "['doll', 'firetruck', 'kitten']\n",
      "I am a Kangaroo located at coordinates (3,0)\n"
     ]
    }
   ],
   "source": [
    "# question 3\n",
    "\n",
    "class Marsupial:\n",
    "    def __init__(self):\n",
    "        self.pouch = []\n",
    "\n",
    "    def put_in_pouch(self, item):\n",
    "        self.pouch.append(item)\n",
    "\n",
    "    def pouch_contents(self):\n",
    "        return self.pouch\n",
    "\n",
    "\n",
    "class Kangaroo(Marsupial):\n",
    "    def __init__(self, x, y):\n",
    "        super().__init__()\n",
    "        self.x = x\n",
    "        self.y = y\n",
    "\n",
    "    def jump(self, dx, dy):\n",
    "        self.x += dx\n",
    "        self.y += dy\n",
    "\n",
    "    def __str__(self):\n",
    "        return f\"I am a Kangaroo located at coordinates ({self.x},{self.y})\"\n",
    "\n",
    "\n",
    "# Example usage:\n",
    "m = Marsupial()\n",
    "m.put_in_pouch('doll')\n",
    "m.put_in_pouch('firetruck')\n",
    "m.put_in_pouch('kitten')\n",
    "print(m.pouch_contents())\n",
    "\n",
    "k = Kangaroo(0, 0)\n",
    "print(k)\n",
    "k.put_in_pouch('doll')\n",
    "k.put_in_pouch('firetruck')\n",
    "k.put_in_pouch('kitten')\n",
    "print(k.pouch_contents())\n",
    "\n",
    "k.jump(1, 0)\n",
    "k.jump(1, 0)\n",
    "k.jump(1, 0)\n",
    "print(k)\n",
    "\n",
    "\n"
   ]
  },
  {
   "cell_type": "code",
   "execution_count": 3,
   "id": "763e82fd",
   "metadata": {},
   "outputs": [
    {
     "name": "stdout",
     "output_type": "stream",
     "text": [
      "10\n",
      "5\n",
      "16\n",
      "8\n",
      "4\n",
      "2\n",
      "1\n"
     ]
    }
   ],
   "source": [
    "#question 4\n",
    "\n",
    "def collatz(x):\n",
    "    if not isinstance(x, int) or x <= 0:\n",
    "        print(\"Input must be a positive integer.\")\n",
    "        return\n",
    "    print(x)\n",
    "    if x == 1:\n",
    "        return\n",
    "    elif x % 2 == 0:\n",
    "        collatz(x // 2)\n",
    "    else:\n",
    "        collatz(3 * x + 1)\n",
    "\n",
    "collatz(10)"
   ]
  },
  {
   "cell_type": "code",
   "execution_count": 7,
   "id": "502b61ae",
   "metadata": {},
   "outputs": [
    {
     "name": "stdout",
     "output_type": "stream",
     "text": [
      "0\n",
      "1\n",
      "11\n",
      "1001"
     ]
    }
   ],
   "source": [
    "#question 5\n",
    "\n",
    "def binary(n):\n",
    "    if n > 1:\n",
    "        binary(n // 2)\n",
    "    print(n % 2, end='')\n",
    "\n",
    "# Example usage:\n",
    "binary(0)\n",
    "print()\n",
    "binary(1)\n",
    "print()\n",
    "binary(3)\n",
    "print()\n",
    "binary(9)\n",
    "\n"
   ]
  },
  {
   "cell_type": "code",
   "execution_count": 10,
   "id": "965215e2",
   "metadata": {},
   "outputs": [],
   "source": [
    "# question 7\n",
    "\n",
    "import requests\n",
    "\n",
    "def webdir(url, depth, indent):\n",
    "    if depth < 0:\n",
    "        return\n",
    "    try:\n",
    "        response = requests.get(url)\n",
    "        if response.status_code == 200:\n",
    "            print(' ' * indent + url)\n",
    "            links = extract_links(response.text)\n",
    "            for link in links:\n",
    "                webdir(link, depth - 1, indent + 4)\n",
    "    except requests.exceptions.RequestException:\n",
    "        return\n",
    "\n",
    "def extract_links(html):\n",
    "    import re\n",
    "    pattern = r'<a\\s+href=[\\'\"](.*?)[\\'\"]'\n",
    "    return re.findall(pattern, html, re.IGNORECASE)\n",
    "\n",
    "# Example usage:\n",
    "webdir('http://reed.cs.depaul.edu/lperkovic/csc242/test1.html', 2, 0)"
   ]
  },
  {
   "cell_type": "code",
   "execution_count": null,
   "id": "3d7b2f72",
   "metadata": {},
   "outputs": [],
   "source": [
    "# question 8\n",
    "\n",
    "#a\n",
    "SELECT Temperature FROM table_name;\n",
    "\n",
    "#b\n",
    "SELECT DISTINCT City FROM table_name;\n",
    "\n",
    "#c\n",
    "SELECT * FROM table_name WHERE Country = 'India';\n",
    "\n",
    "d#\n",
    "SELECT * FROM table_name WHERE Season = 'Fall';\n",
    "\n",
    "e#\n",
    "SELECT City, Country, Season FROM table_name\n",
    "WHERE Rainfall BETWEEN 200 AND 400;\n",
    "\n",
    "f#\n",
    "SELECT City, Country FROM table_name\n",
    "WHERE Season = 'Fall' AND Temperature > 20\n",
    "ORDER BY Temperature ASC;\n",
    "\n",
    "g#\n",
    "SELECT SUM(Rainfall) AS TotalRainfall FROM table_name\n",
    "WHERE City = 'Cairo';\n",
    "\n",
    "h#\n",
    "SELECT Season, SUM(Rainfall) AS TotalRainfall FROM table_name\n",
    "GROUP BY Season;\n"
   ]
  },
  {
   "cell_type": "code",
   "execution_count": 6,
   "id": "2e0e33a0",
   "metadata": {},
   "outputs": [
    {
     "name": "stdout",
     "output_type": "stream",
     "text": [
      "['THE', 'QUICK', 'BROWN', 'FOX', 'JUMPS', 'OVER', 'THE', 'LAZY', 'DOG']\n",
      "['the', 'quick', 'brown', 'fox', 'jumps', 'over', 'the', 'lazy', 'dog']\n",
      "[3, 5, 5, 3, 5, 4, 3, 4, 3]\n",
      "[['THE', 'the', 3], ['QUICK', 'quick', 5], ['BROWN', 'brown', 5], ['FOX', 'fox', 3], ['JUMPS', 'jumps', 5], ['OVER', 'over', 4], ['THE', 'the', 3], ['LAZY', 'lazy', 4], ['DOG', 'dog', 3]]\n",
      "['quick', 'brown', 'jumps', 'over', 'lazy']\n"
     ]
    }
   ],
   "source": [
    "# question 9\n",
    "\n",
    "words = ['The', 'quick', 'brown', 'fox', 'jumps', 'over', 'the', 'lazy', 'dog']\n",
    "\n",
    "# a) Uppercase words\n",
    "uppercase_words = [word.upper() for word in words]\n",
    "print(uppercase_words)\n",
    "\n",
    "# b) Lowercase words\n",
    "lowercase_words = [word.lower() for word in words]\n",
    "print(lowercase_words)\n",
    "\n",
    "# c) Lengths of words\n",
    "word_lengths = [len(word) for word in words]\n",
    "print(word_lengths)\n",
    "\n",
    "# d) Word info\n",
    "word_info = [[word.upper(), word.lower(), len(word)] for word in words]\n",
    "print(word_info)\n",
    "\n",
    "# e) Words with 4 or more characters\n",
    "four_or_more_chars = [word for word in words if len(word) >= 4]\n",
    "print(four_or_more_chars)\n"
   ]
  }
 ],
 "metadata": {
  "kernelspec": {
   "display_name": "Python 3 (ipykernel)",
   "language": "python",
   "name": "python3"
  },
  "language_info": {
   "codemirror_mode": {
    "name": "ipython",
    "version": 3
   },
   "file_extension": ".py",
   "mimetype": "text/x-python",
   "name": "python",
   "nbconvert_exporter": "python",
   "pygments_lexer": "ipython3",
   "version": "3.10.9"
  }
 },
 "nbformat": 4,
 "nbformat_minor": 5
}
